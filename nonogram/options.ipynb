{
 "cells": [
  {
   "cell_type": "markdown",
   "id": "bea00ef5-d6a9-4890-a133-fa4121aefe60",
   "metadata": {},
   "source": [
    "# Nonogram"
   ]
  },
  {
   "cell_type": "markdown",
   "id": "cb5a98af-7a8f-421d-89bb-732176d1e53b",
   "metadata": {},
   "source": [
    "This project aims to implement and resolve the Nonogram game, a japanese crossword like game.\n",
    "\n",
    "For this project, I will use and refer to this website: <https://www.nonograms.org>.\n",
    "\n",
    "* The rules of the game are available [here](https://www.nonograms.org/instructions).\n",
    "* The strategies to solve the game are [here](https://www.nonograms.org/methods).\n",
    "\n",
    "Steps :\n",
    "* [ ] Implement the basic vesion of the game (not colored)\n",
    "    * [ ] Put it inside a python file (instead of a notebook)\n",
    "    * [ ] Write unit tests with pytest \n",
    "* [ ] Format the code with black, isort and pydocstyle, then lint with pylint\n",
    "* [ ] Code the solver\n",
    "    * [ ] Write a function that generate all the options for a given row\n",
    "    * [ ] Remove absurd options\n",
    "    * [ ] Fill cells with basic strategies (superposition)\n",
    "* [ ] Scrappe puzzles from the site\n",
    "    * [ ] Write a nice class for the game and the solver\n",
    "    * [ ] Write unit tests to verify the solver\n",
    "* [ ] Create a graphic interphace with pygame\n",
    "* [ ] (Later) Solve the game with colors"
   ]
  },
  {
   "cell_type": "markdown",
   "id": "82a40de8-9b30-4552-a980-56decddccdb5",
   "metadata": {},
   "source": [
    "## Implementing the game"
   ]
  },
  {
   "cell_type": "code",
   "execution_count": 1,
   "id": "8eb22ae1-aef9-49cd-8b6a-05ed919c523b",
   "metadata": {},
   "outputs": [],
   "source": [
    "import numpy as np\n",
    "import numpy.random as rd\n",
    "import matplotlib.pyplot as plt"
   ]
  },
  {
   "cell_type": "code",
   "execution_count": 2,
   "id": "19f0e45a",
   "metadata": {},
   "outputs": [],
   "source": [
    "def generate_spaces(p, nc):\n",
    "    options = []\n",
    "    \n",
    "    if nc == 0:\n",
    "        return [[p]]\n",
    "    else:\n",
    "        for x in range(p+1):\n",
    "            nc_p = nc - 1\n",
    "            p_p = p - x\n",
    "            options_p = generate_spaces(p_p, nc_p)\n",
    "            for o in options_p:\n",
    "                l = [x]\n",
    "                l.extend(o)\n",
    "                options.append(l)\n",
    "        return options"
   ]
  },
  {
   "cell_type": "code",
   "execution_count": 3,
   "id": "2453834c",
   "metadata": {},
   "outputs": [],
   "source": [
    "def generate_options(n, coefs):\n",
    "    nc = len(coefs)\n",
    "    t = sum(coefs) + nc - 1\n",
    "    p = n-t\n",
    "    \n",
    "    if t > n:\n",
    "        raise ValueError(\"To many coefficients\")\n",
    "    \n",
    "    options = []\n",
    "    spaces = generate_spaces(p, nc)\n",
    "    \n",
    "    for s in spaces:\n",
    "        l = [0 for i in range(n)]\n",
    "        res = 0\n",
    "        for i in range(len(s)-1):\n",
    "            res += s[i]\n",
    "            for j in range(coefs[i]):\n",
    "                l[res+j] = 1\n",
    "            res += coefs[i] + 1\n",
    "        options.append(l)\n",
    "    return options"
   ]
  },
  {
   "cell_type": "code",
   "execution_count": 4,
   "id": "04e0f437",
   "metadata": {},
   "outputs": [],
   "source": [
    "class Game:\n",
    "    def __init__(self, board, row_coefs, col_coefs):\n",
    "        \"\"\"TODO: Add assertions on board/coefs\"\"\"\n",
    "        self.board = board\n",
    "        self.n, self.m = board.shape\n",
    "        self.row_coefs = row_coefs\n",
    "        self.col_coefs = col_coefs"
   ]
  },
  {
   "cell_type": "code",
   "execution_count": 5,
   "id": "4734d6e3",
   "metadata": {},
   "outputs": [],
   "source": [
    "class Solver:\n",
    "    def __init__(self, game):\n",
    "        self.board = game.board.copy()\n",
    "        self.previous_board = None\n",
    "        self.row_length = self.n = game.n\n",
    "        self.col_length = self.m = game.m\n",
    "        self.row_coefs = game.row_coefs\n",
    "        self.col_coefs = game.col_coefs\n",
    "        self.row_options = self.init_options(\"row\")\n",
    "        self.col_options = self.init_options(\"col\")\n",
    "    \n",
    "    def init_options(self, axis):\n",
    "        if axis == \"row\" or axis ==\"r\":\n",
    "            size, list_coefs = self.row_length, self.row_coefs\n",
    "        elif axis == \"col\" or axis ==\"c\":\n",
    "            size, list_coefs = self.col_length, self.col_coefs\n",
    "        else:\n",
    "            raise ValueError(\"Parameter must be in 'row', 'r' for rows or 'col', 'c' for columns\")\n",
    "        \n",
    "        options = []\n",
    "        for i in range(len(list_coefs)):\n",
    "            options.append(generate_options(size, list_coefs[i]))\n",
    "        \n",
    "        return options\n",
    "    \n",
    "    def is_finished(self):\n",
    "        return (self.board != -1).all()\n",
    "    \n",
    "    def check_absurd_options(self):\n",
    "        # Check rows\n",
    "        for r in range(self.n):\n",
    "            row = self.board[r, :]\n",
    "            for x, opt in enumerate(self.row_options[r]):\n",
    "                if np.any([(row[i]!=-1 and opt[i]!=row[i]) for i in range(len(row))]):\n",
    "                    self.row_options[r].pop(x)\n",
    "        \n",
    "        # Check cols\n",
    "        for c in range(self.m):\n",
    "            col = self.board[:, c]\n",
    "            for x, opt in enumerate(self.col_options[c]):\n",
    "                if np.any([(col[i]!=-1 and opt[i]!=col[i]) for i in range(len(col))]):\n",
    "                    self.col_options[c].pop(x)\n",
    "                    \n",
    "        return None\n",
    "    \n",
    "    \n",
    "    def check_superposition(self):\n",
    "        # Check rows\n",
    "        for r in range(self.n):\n",
    "            for i in range(self.m):\n",
    "                if self.board[r, i] == -1 and (np.array(self.row_options[r])[:, i] == self.row_options[r][0][i]).all():\n",
    "                    self.board[r, i] = self.row_options[r][0][i]\n",
    "        \n",
    "        # Check cols\n",
    "        for c in range(self.m):\n",
    "            for i in range(self.n):\n",
    "                if self.board[i, c] == -1 and (np.array(self.col_options[c])[:, i] == self.col_options[c][0][i]).all():\n",
    "                    self.board[i, c] = self.col_options[c][0][i]\n",
    "                    \n",
    "        return None\n",
    "    \n",
    "    def solve(self, check_previous=True):\n",
    "        while not self.is_finished():\n",
    "            if check_previous:\n",
    "                self.previous_board = self.board.copy()\n",
    "            \n",
    "            self.check_absurd_options()\n",
    "            self.check_superposition()\n",
    "            \n",
    "            if check_previous and (self.previous_board == self.board).all():\n",
    "                raise Error(\"No Progress\")\n",
    "            \n",
    "        if self.is_finished():\n",
    "            print(\"Game is solved!\\n\")\n",
    "            print(self.board)"
   ]
  },
  {
   "cell_type": "code",
   "execution_count": 15,
   "id": "88c433bc-e3f7-4917-a5ba-49a20ed2d319",
   "metadata": {},
   "outputs": [],
   "source": [
    "n = 10\n",
    "b = -np.ones((n, n))\n",
    "\n",
    "b = np.array([\n",
    "    [-1, -1, -1,  0, -1, -1,  0, -1,  0,  0],\n",
    "    [-1, -1, -1, -1, -1, -1, -1,  0, -1, -1],\n",
    "    [-1, -1, -1, -1, -1, -1, -1, -1, -1,  0],\n",
    "    [ 0, -1, -1, -1, -1, -1, -1, -1, -1, -1],\n",
    "    [-1, -1, -1, -1, -1, -1, -1, -1, -1, -1],\n",
    "    [ 0,  0, -1, -1, -1,  0, -1, -1, -1,  0],\n",
    "    [-1,  0, -1, -1, -1,  0, -1, -1,  0, -1],\n",
    "    [ 0,  0, -1, -1, -1,  0,  0, -1, -1,  0],\n",
    "    [-1, -1, -1, -1, -1, -1, -1, -1, -1, -1],\n",
    "    [-1, -1, -1, -1, -1, -1, -1, -1, -1, -1],\n",
    "])\n",
    "\n",
    "rows = [\n",
    "    [2],\n",
    "    [4],\n",
    "    [6],\n",
    "    [8],\n",
    "    [10],\n",
    "    [3, 1],\n",
    "    [3, 1],\n",
    "    [3, 1],\n",
    "    [10],\n",
    "    [10],\n",
    "]\n",
    "\n",
    "cols = [\n",
    "    [1, 2],\n",
    "    [2, 2],\n",
    "    [8],\n",
    "    [9],\n",
    "    [10],\n",
    "    [5, 2],\n",
    "    [4, 2],\n",
    "    [8],\n",
    "    [2, 2],\n",
    "    [1, 2],\n",
    "]"
   ]
  },
  {
   "cell_type": "code",
   "execution_count": 16,
   "id": "364fb728",
   "metadata": {},
   "outputs": [],
   "source": [
    "game = Game(board=b, row_coefs=rows, col_coefs=cols)"
   ]
  },
  {
   "cell_type": "code",
   "execution_count": 17,
   "id": "a6183b5e",
   "metadata": {},
   "outputs": [],
   "source": [
    "solver = Solver(game)"
   ]
  },
  {
   "cell_type": "code",
   "execution_count": 18,
   "id": "b001770d",
   "metadata": {},
   "outputs": [
    {
     "name": "stdout",
     "output_type": "stream",
     "text": [
      "Game is solved!\n",
      "\n",
      "[[0 0 0 0 1 1 0 0 0 0]\n",
      " [0 0 0 1 1 1 1 0 0 0]\n",
      " [0 0 1 1 1 1 1 1 0 0]\n",
      " [0 1 1 1 1 1 1 1 1 0]\n",
      " [1 1 1 1 1 1 1 1 1 1]\n",
      " [0 0 1 1 1 0 0 1 0 0]\n",
      " [0 0 1 1 1 0 0 1 0 0]\n",
      " [0 0 1 1 1 0 0 1 0 0]\n",
      " [1 1 1 1 1 1 1 1 1 1]\n",
      " [1 1 1 1 1 1 1 1 1 1]]\n"
     ]
    }
   ],
   "source": [
    "solver.solve()"
   ]
  },
  {
   "cell_type": "code",
   "execution_count": 20,
   "id": "2ef3077f",
   "metadata": {},
   "outputs": [
    {
     "data": {
      "image/png": "[encoded data removed]",
      "text/plain": [
       "<Figure size 432x288 with 1 Axes>"
      ]
     },
     "metadata": {
      "needs_background": "light"
     },
     "output_type": "display_data"
    }
   ],
   "source": [
    "plt.imshow(solver.board, cmap=plt.cm.binary);"
   ]
  }
 ],
 "metadata": {
  "kernelspec": {
   "display_name": "Python 3 (ipykernel)",
   "language": "python",
   "name": "python3"
  },
  "language_info": {
   "codemirror_mode": {
    "name": "ipython",
    "version": 3
   },
   "file_extension": ".py",
   "mimetype": "text/x-python",
   "name": "python",
   "nbconvert_exporter": "python",
   "pygments_lexer": "ipython3",
   "version": "3.9.2"
  }
 },
 "nbformat": 4,
 "nbformat_minor": 5
}
