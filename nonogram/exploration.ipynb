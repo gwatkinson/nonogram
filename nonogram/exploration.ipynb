{
 "cells": [
  {
   "cell_type": "markdown",
   "id": "bea00ef5-d6a9-4890-a133-fa4121aefe60",
   "metadata": {},
   "source": [
    "# Nonogram"
   ]
  },
  {
   "cell_type": "markdown",
   "id": "cb5a98af-7a8f-421d-89bb-732176d1e53b",
   "metadata": {},
   "source": [
    "This project aims to implement and resolve the Nonogram game, a japanese crossword like game.\n",
    "\n",
    "For this project, I will use and refer to this website: <https://www.nonograms.org>.\n",
    "\n",
    "* The rules of the game are available [here](https://www.nonograms.org/instructions).\n",
    "* The methods to solve the game are [here](https://www.nonograms.org/methods).\n",
    "\n",
    "Steps :\n",
    "* [ ] Implement the basic vesion of the game (not colored)\n",
    "    * [ ] Put it inside a python file (instead of a notebook)\n",
    "    * [ ] Write unit tests with pytest \n",
    "* [ ] Format the code with black, isort and pydocstyle, then lint with pylint\n",
    "* [ ] Code the strategies to resolve the puzzle\n",
    "    * [ ] Add it to the python module\n",
    "    * [ ] Write unit tests to verify them\n",
    "* [ ] Create a more general solver\n",
    "* [ ] Scrappe puzzles from the site\n",
    "    * [ ] Write a nice class for the game and the solver\n",
    "    * [ ] Write unit tests to verify the solver\n",
    "* [ ] Create a graphic interphace with pygame\n",
    "* [ ] (Later) Solve the game with colors"
   ]
  },
  {
   "cell_type": "markdown",
   "id": "82a40de8-9b30-4552-a980-56decddccdb5",
   "metadata": {},
   "source": [
    "## Implementing the game"
   ]
  },
  {
   "cell_type": "code",
   "execution_count": 71,
   "id": "0852757b-e407-41d9-abe9-ebe228f30f7f",
   "metadata": {},
   "outputs": [
    {
     "data": {
      "image/png": "[encoded data removed]",
      "text/plain": [
       "<Figure size 432x288 with 1 Axes>"
      ]
     },
     "metadata": {
      "needs_background": "light"
     },
     "output_type": "display_data"
    }
   ],
   "source": [
    "from game import Game, Solver\n",
    "import numpy as np\n",
    "\n",
    "b = np.array([\n",
    "    [-1, -1, -1,  0, -1, -1,  0, -1,  0,  0],\n",
    "    [-1, -1, -1, -1, -1, -1, -1,  0, -1, -1],\n",
    "    [-1, -1, -1, -1, -1, -1, -1, -1, -1,  0],\n",
    "    [ 0, -1, -1, -1, -1, -1, -1, -1, -1, -1],\n",
    "    [-1, -1, -1, -1, -1, -1, -1, -1, -1, -1],\n",
    "    [ 0,  0, -1, -1, -1,  0, -1, -1, -1,  0],\n",
    "    [-1,  0, -1, -1, -1,  0, -1, -1,  0, -1],\n",
    "    [ 0,  0, -1, -1, -1,  0,  0, -1, -1,  0],\n",
    "    [-1, -1, -1, -1, -1, -1, -1, -1, -1, -1],\n",
    "    [-1, -1, -1, -1, -1, -1, -1, -1, -1, -1],\n",
    "])\n",
    "\n",
    "rows = [\n",
    "    [2],\n",
    "    [4],\n",
    "    [6],\n",
    "    [8],\n",
    "    [10],\n",
    "    [3, 1],\n",
    "    [3, 1],\n",
    "    [3, 1],\n",
    "    [10],\n",
    "    [10],\n",
    "]\n",
    "\n",
    "cols = [\n",
    "    [1, 2],\n",
    "    [2, 2],\n",
    "    [8],\n",
    "    [9],\n",
    "    [10],\n",
    "    [5, 2],\n",
    "    [4, 2],\n",
    "    [8],\n",
    "    [2, 2],\n",
    "    [1, 2],\n",
    "]\n",
    "\n",
    "game = Game(b, rows, cols)\n",
    "solver = Solver(game)"
   ]
  },
  {
   "cell_type": "code",
   "execution_count": 72,
   "id": "b3ff9b52-d640-4353-94b3-6a6b191bb4f2",
   "metadata": {},
   "outputs": [
    {
     "ename": "NameError",
     "evalue": "name 'fig' is not defined",
     "output_type": "error",
     "traceback": [
      "\u001b[1;31m---------------------------------------------------------------------------\u001b[0m",
      "\u001b[1;31mNameError\u001b[0m                                 Traceback (most recent call last)",
      "\u001b[1;32m~\\AppData\\Local\\Temp/ipykernel_532/2048568713.py\u001b[0m in \u001b[0;36m<module>\u001b[1;34m\u001b[0m\n\u001b[1;32m----> 1\u001b[1;33m \u001b[0msolver\u001b[0m\u001b[1;33m.\u001b[0m\u001b[0msolve\u001b[0m\u001b[1;33m(\u001b[0m\u001b[0mdisplay\u001b[0m\u001b[1;33m=\u001b[0m\u001b[1;32mTrue\u001b[0m\u001b[1;33m)\u001b[0m\u001b[1;33m\u001b[0m\u001b[1;33m\u001b[0m\u001b[0m\n\u001b[0m",
      "\u001b[1;32m~\\Documents\\Projets\\nonogram\\nonogram\\game.py\u001b[0m in \u001b[0;36msolve\u001b[1;34m(self, check_previous, display, pause)\u001b[0m\n\u001b[0;32m    346\u001b[0m         \u001b[1;32mwhile\u001b[0m \u001b[1;32mnot\u001b[0m \u001b[0mself\u001b[0m\u001b[1;33m.\u001b[0m\u001b[0mis_finished\u001b[0m\u001b[1;33m(\u001b[0m\u001b[1;33m)\u001b[0m\u001b[1;33m:\u001b[0m\u001b[1;33m\u001b[0m\u001b[1;33m\u001b[0m\u001b[0m\n\u001b[0;32m    347\u001b[0m             \u001b[1;32mif\u001b[0m \u001b[0mdisplay\u001b[0m\u001b[1;33m:\u001b[0m\u001b[1;33m\u001b[0m\u001b[1;33m\u001b[0m\u001b[0m\n\u001b[1;32m--> 348\u001b[1;33m                 \u001b[0mself\u001b[0m\u001b[1;33m.\u001b[0m\u001b[0mdisplay_board\u001b[0m\u001b[1;33m(\u001b[0m\u001b[0max\u001b[0m\u001b[1;33m,\u001b[0m \u001b[0miteration\u001b[0m\u001b[1;33m=\u001b[0m\u001b[0mi\u001b[0m\u001b[1;33m)\u001b[0m\u001b[1;33m\u001b[0m\u001b[1;33m\u001b[0m\u001b[0m\n\u001b[0m\u001b[0;32m    349\u001b[0m                 \u001b[0mclear_output\u001b[0m\u001b[1;33m(\u001b[0m\u001b[0mwait\u001b[0m \u001b[1;33m=\u001b[0m \u001b[1;32mTrue\u001b[0m\u001b[1;33m)\u001b[0m\u001b[1;33m\u001b[0m\u001b[1;33m\u001b[0m\u001b[0m\n\u001b[0;32m    350\u001b[0m                 \u001b[1;32mif\u001b[0m \u001b[0mpause\u001b[0m \u001b[1;33m>\u001b[0m \u001b[1;36m0\u001b[0m\u001b[1;33m:\u001b[0m\u001b[1;33m\u001b[0m\u001b[1;33m\u001b[0m\u001b[0m\n",
      "\u001b[1;32m~\\Documents\\Projets\\nonogram\\nonogram\\game.py\u001b[0m in \u001b[0;36mdisplay_board\u001b[1;34m(self, ax, iteration)\u001b[0m\n\u001b[0;32m    323\u001b[0m         \u001b[1;32mif\u001b[0m \u001b[0miteration\u001b[0m\u001b[1;33m:\u001b[0m\u001b[1;33m\u001b[0m\u001b[1;33m\u001b[0m\u001b[0m\n\u001b[0;32m    324\u001b[0m             \u001b[0max\u001b[0m\u001b[1;33m.\u001b[0m\u001b[0mset_title\u001b[0m\u001b[1;33m(\u001b[0m\u001b[1;34mf\"Iteration: {iteration}\"\u001b[0m\u001b[1;33m)\u001b[0m\u001b[1;33m\u001b[0m\u001b[1;33m\u001b[0m\u001b[0m\n\u001b[1;32m--> 325\u001b[1;33m         \u001b[0mdisplay\u001b[0m\u001b[1;33m(\u001b[0m\u001b[0mfig\u001b[0m\u001b[1;33m)\u001b[0m\u001b[1;33m\u001b[0m\u001b[1;33m\u001b[0m\u001b[0m\n\u001b[0m\u001b[0;32m    326\u001b[0m         \u001b[0mclear_output\u001b[0m\u001b[1;33m(\u001b[0m\u001b[0mwait\u001b[0m \u001b[1;33m=\u001b[0m \u001b[1;32mTrue\u001b[0m\u001b[1;33m)\u001b[0m\u001b[1;33m\u001b[0m\u001b[1;33m\u001b[0m\u001b[0m\n\u001b[0;32m    327\u001b[0m \u001b[1;33m\u001b[0m\u001b[0m\n",
      "\u001b[1;31mNameError\u001b[0m: name 'fig' is not defined"
     ]
    },
    {
     "data": {
      "image/png": "[encoded data removed]",
      "text/plain": [
       "<Figure size 432x288 with 1 Axes>"
      ]
     },
     "metadata": {
      "needs_background": "light"
     },
     "output_type": "display_data"
    }
   ],
   "source": [
    "solver.solve(display=True)"
   ]
  },
  {
   "cell_type": "code",
   "execution_count": null,
   "id": "8a03cbea-1e8d-4447-a394-4f0992b537ca",
   "metadata": {},
   "outputs": [],
   "source": []
  }
 ],
 "metadata": {
  "kernelspec": {
   "display_name": "Python 3 (ipykernel)",
   "language": "python",
   "name": "python3"
  },
  "language_info": {
   "codemirror_mode": {
    "name": "ipython",
    "version": 3
   },
   "file_extension": ".py",
   "mimetype": "text/x-python",
   "name": "python",
   "nbconvert_exporter": "python",
   "pygments_lexer": "ipython3",
   "version": "3.9.2"
  }
 },
 "nbformat": 4,
 "nbformat_minor": 5
}
