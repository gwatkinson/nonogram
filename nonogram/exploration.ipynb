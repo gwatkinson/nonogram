{
 "cells": [
  {
   "cell_type": "markdown",
   "id": "bea00ef5-d6a9-4890-a133-fa4121aefe60",
   "metadata": {},
   "source": [
    "# Nonogram"
   ]
  },
  {
   "cell_type": "markdown",
   "id": "cb5a98af-7a8f-421d-89bb-732176d1e53b",
   "metadata": {},
   "source": [
    "This project aims to implement and resolve the Nonogram game, a japanese crossword like game.\n",
    "\n",
    "For this project, I will use and refer to this website: [https://www.nonograms.org].\n",
    "\n",
    "* The rules of the game are available [here][https://www.nonograms.org/instructions].\n",
    "* The methods to solve the game are [here][https://www.nonograms.org/methods].\n",
    "\n",
    "Steps :\n",
    "* [ ] Implement the basic vesion of the game (not colored)\n",
    "    * [ ] Put it inside a python file (instead of a notebook)\n",
    "    * [ ] Write unit tests with pytest \n",
    "* [ ] Format the code with black, isort and pydocstyle, then lint with pylint\n",
    "* [ ] Code the strategies to resolve the puzzle\n",
    "    * [ ] Add it to the python module\n",
    "    * [ ] Write unit tests to verify them\n",
    "* [ ] Create a more general solver\n",
    "* [ ] Scrappe puzzles from the site\n",
    "    * [ ] Write a nice class for the game and the solver\n",
    "    * [ ] Write unit tests to verify the solver\n",
    "* [ ] Create a graphic interphace with pygame\n",
    "* [ ] (Later) Solve the game with colors"
   ]
  },
  {
   "cell_type": "markdown",
   "id": "82a40de8-9b30-4552-a980-56decddccdb5",
   "metadata": {},
   "source": [
    "## Implementing the game"
   ]
  },
  {
   "cell_type": "code",
   "execution_count": 1,
   "id": "8eb22ae1-aef9-49cd-8b6a-05ed919c523b",
   "metadata": {},
   "outputs": [],
   "source": [
    "import numpy as np"
   ]
  },
  {
   "cell_type": "code",
   "execution_count": 2,
   "id": "d1323580-93ff-41a3-aa68-104ad9773d4a",
   "metadata": {},
   "outputs": [],
   "source": [
    "class nonogram:\n",
    "    \"\"\"Class that contains the gameboard\"\"\"\n",
    "    def __init__(self, board):\n",
    "        self.board = board\n",
    "        self.shape = board.shape\n",
    "        self.length, self.height = board.shape"
   ]
  },
  {
   "cell_type": "code",
   "execution_count": 3,
   "id": "24d9e4e9-376b-4bf7-ab19-40667cb7929d",
   "metadata": {},
   "outputs": [],
   "source": [
    "class row:\n",
    "    \"\"\"Class for the rows of the board on which to implement the strategies\"\"\"\n",
    "    def __init(self, row):\n",
    "        self.row = row\n",
    "        self.length = self.n = len(row)\n",
    "    \n",
    "    def superposition(self):\n",
    "        pass\n",
    "\n",
    "    def off_the_wall(self):\n",
    "        pass\n",
    "\n",
    "    def inaccessibility(self):\n",
    "        pass\n",
    "\n",
    "    def non_fit(self):\n",
    "        pass\n",
    "\n",
    "    def division(self):\n",
    "        pass\n",
    "\n",
    "    def double_positioning(self):\n",
    "        pass"
   ]
  }
 ],
 "metadata": {
  "kernelspec": {
   "display_name": "Python 3 (ipykernel)",
   "language": "python",
   "name": "python3"
  },
  "language_info": {
   "codemirror_mode": {
    "name": "ipython",
    "version": 3
   },
   "file_extension": ".py",
   "mimetype": "text/x-python",
   "name": "python",
   "nbconvert_exporter": "python",
   "pygments_lexer": "ipython3",
   "version": "3.9.2"
  }
 },
 "nbformat": 4,
 "nbformat_minor": 5
}
