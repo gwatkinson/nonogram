{
 "cells": [
  {
   "cell_type": "markdown",
   "id": "bea00ef5-d6a9-4890-a133-fa4121aefe60",
   "metadata": {},
   "source": [
    "# Nonogram"
   ]
  },
  {
   "cell_type": "markdown",
   "id": "cb5a98af-7a8f-421d-89bb-732176d1e53b",
   "metadata": {},
   "source": [
    "This project aims to implement and resolve the Nonogram game, a japanese crossword like game.\n",
    "\n",
    "For this project, I will use and refer to this website: <https://www.nonograms.org>.\n",
    "\n",
    "* The rules of the game are available [here](https://www.nonograms.org/instructions).\n",
    "* The methods to solve the game are [here](https://www.nonograms.org/methods).\n",
    "\n",
    "Steps :\n",
    "* [ ] Implement the basic vesion of the game (not colored)\n",
    "    * [ ] Put it inside a python file (instead of a notebook)\n",
    "    * [ ] Write unit tests with pytest \n",
    "* [ ] Format the code with black, isort and pydocstyle, then lint with pylint\n",
    "* [ ] Code the strategies to resolve the puzzle\n",
    "    * [ ] Add it to the python module\n",
    "    * [ ] Write unit tests to verify them\n",
    "* [ ] Create a more general solver\n",
    "* [ ] Scrappe puzzles from the site\n",
    "    * [ ] Write a nice class for the game and the solver\n",
    "    * [ ] Write unit tests to verify the solver\n",
    "* [ ] Create a graphic interphace with pygame\n",
    "* [ ] (Later) Solve the game with colors"
   ]
  },
  {
   "cell_type": "markdown",
   "id": "82a40de8-9b30-4552-a980-56decddccdb5",
   "metadata": {},
   "source": [
    "## Implementing the game"
   ]
  },
  {
   "cell_type": "code",
   "execution_count": 7,
   "id": "8eb22ae1-aef9-49cd-8b6a-05ed919c523b",
   "metadata": {},
   "outputs": [],
   "source": [
    "import numpy as np\n",
    "import numpy.random as rd"
   ]
  },
  {
   "cell_type": "code",
   "execution_count": 6,
   "id": "13f53571-25a5-4bab-a990-01e5888fd48b",
   "metadata": {},
   "outputs": [],
   "source": [
    "n = 10\n",
    "b = np.zeros((n, n))"
   ]
  },
  {
   "cell_type": "code",
   "execution_count": 8,
   "id": "88c433bc-e3f7-4917-a5ba-49a20ed2d319",
   "metadata": {},
   "outputs": [],
   "source": [
    "rows = [\n",
    "    [3, 5],\n",
    "    [2, 1, 1, 2],\n",
    "    [8],\n",
    "    [7, 1],\n",
    "    [3, 4],\n",
    "    [5],\n",
    "    [2, 1],\n",
    "    [4],\n",
    "    [3, 5],\n",
    "    [2],\n",
    "]\n",
    "\n",
    "cols = [\n",
    "    [3, 5],\n",
    "    [2, 1, 1, 2],\n",
    "    [8],\n",
    "    [7, 1],\n",
    "    [3, 4],\n",
    "    [5],\n",
    "    [2, 1],\n",
    "    [4],\n",
    "    [3, 5],\n",
    "    [2],\n",
    "]"
   ]
  },
  {
   "cell_type": "code",
   "execution_count": 36,
   "id": "1b74235c-9aeb-4361-b6d2-00dd26be846d",
   "metadata": {},
   "outputs": [],
   "source": [
    "def superposition(row, coef):\n",
    "    n = len(row)    \n",
    "    t = n + 1 - np.sum(coef) - len(coef)\n",
    "    res = 0\n",
    "    for x in coef:\n",
    "        res += x\n",
    "        for p in range(res-max([0, x-t]), res):\n",
    "            row[p] = 1\n",
    "        res += 1\n",
    "    return row            "
   ]
  },
  {
   "cell_type": "code",
   "execution_count": 45,
   "id": "46051e65-a60c-42b2-bff2-784a29d8fcf5",
   "metadata": {},
   "outputs": [
    {
     "data": {
      "text/plain": [
       "array([ 0.,  1.,  1.,  0., -1.,  0.,  0.,  0.,  0.,  0.])"
      ]
     },
     "execution_count": 45,
     "metadata": {},
     "output_type": "execute_result"
    },
    {
     "data": {
      "text/plain": [
       "array([ 0.,  1.,  1.,  0., -1.,  1.,  1.,  0.,  1.,  1.])"
      ]
     },
     "execution_count": 45,
     "metadata": {},
     "output_type": "execute_result"
    }
   ],
   "source": [
    "r = np.zeros(10)\n",
    "r[4] = -1\n",
    "superposition(r, [3], imax=3)\n",
    "superposition(r, [2, 2], imin=5)"
   ]
  },
  {
   "cell_type": "code",
   "execution_count": null,
   "id": "34ec7b49-e735-4b3f-8ba6-09c3914023ce",
   "metadata": {},
   "outputs": [],
   "source": []
  },
  {
   "cell_type": "code",
   "execution_count": null,
   "id": "88c88cc0-65b3-43f2-8ff5-9a82f3e129bf",
   "metadata": {},
   "outputs": [],
   "source": []
  },
  {
   "cell_type": "code",
   "execution_count": 2,
   "id": "d1323580-93ff-41a3-aa68-104ad9773d4a",
   "metadata": {},
   "outputs": [],
   "source": [
    "class nonogram:\n",
    "    \"\"\"Class that contains the gameboard\"\"\"\n",
    "    def __init__(self, board):\n",
    "        self.board = board\n",
    "        self.shape = board.shape\n",
    "        self.length, self.height = board.shape\n",
    "    \n",
    "    def fill_row(self, row):\n",
    "        pass\n",
    "    \n",
    "    def forward(self):\n",
    "        pass\n",
    "    \n",
    "    def solve(self):\n",
    "        pass\n",
    "    \n",
    "    def __str__(self):\n",
    "        pass"
   ]
  },
  {
   "cell_type": "code",
   "execution_count": 1,
   "id": "24d9e4e9-376b-4bf7-ab19-40667cb7929d",
   "metadata": {},
   "outputs": [],
   "source": [
    "class row:\n",
    "    \"\"\"Class for the rows of the board on which to implement the strategies described in https://www.nonograms.org/methods\"\"\"\n",
    "    def __init(self, row):\n",
    "        self.row = row\n",
    "        self.coef = coef\n",
    "        self.length = self.n = len(row)\n",
    "        self.ncoef = len(coef)\n",
    "    \n",
    "    def divise(self):\n",
    "        \"\"\"Divise the rows in subrows\"\"\"\n",
    "        pass\n",
    "    \n",
    "    def fill(self):\n",
    "        \"\"\"Fill the row using the strategies on subdivisions them bringing them together\"\"\"\n",
    "        pass\n",
    "    \n",
    "    \"\"\"Collections of strategies, those should be applied on subset of the row for simplicity\"\"\"\n",
    "    @staticmethod\n",
    "    def superposition(row, coef):\n",
    "        n = len(row)    \n",
    "        t = n + 1 - np.sum(coef) - len(coef)\n",
    "        res = 0\n",
    "        for x in coef:\n",
    "            res += x\n",
    "            for p in range(res-max([0, x-t]), res):\n",
    "                row[p] = 1\n",
    "            res += 1\n",
    "        return row\n",
    "        \n",
    "    def off_the_wall(self):\n",
    "        pass\n",
    "\n",
    "    def inaccessibility(self):\n",
    "        pass\n",
    "\n",
    "    def non_fit(self):\n",
    "        pass\n",
    "\n",
    "    def division(self):\n",
    "        pass\n",
    "\n",
    "    def double_positioning(self):\n",
    "        pass"
   ]
  }
 ],
 "metadata": {
  "kernelspec": {
   "display_name": "Python 3 (ipykernel)",
   "language": "python",
   "name": "python3"
  },
  "language_info": {
   "codemirror_mode": {
    "name": "ipython",
    "version": 3
   },
   "file_extension": ".py",
   "mimetype": "text/x-python",
   "name": "python",
   "nbconvert_exporter": "python",
   "pygments_lexer": "ipython3",
   "version": "3.9.2"
  }
 },
 "nbformat": 4,
 "nbformat_minor": 5
}
